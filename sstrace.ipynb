{
 "cells": [
  {
   "cell_type": "markdown",
   "metadata": {},
   "source": [
    "### Create subset of all gravity mains that connect directly to a given outfall"
   ]
  },
  {
   "cell_type": "code",
   "execution_count": null,
   "metadata": {},
   "outputs": [],
   "source": [
    "# imports\n",
    "import os\n",
    "from trace_sewershed import *\n",
    "import pandas as pd\n",
    "\n",
    "network_path = \"data/sewer_test.geojson\"\n",
    "\n",
    "multiple = True\n",
    "upstream_only = True\n",
    "downstream_only = False\n",
    "verbose = True\n",
    "\n",
    "outfall_file = 'data/Outfalls_ID.csv'\n",
    "id_field = 'ASSET_ID'\n",
    "\n",
    "# this string will be added to the front of the output filename\n",
    "outputname_extra = \"example2_\"\n",
    "\n",
    "output_dir = f\"./out\"\n",
    "if not os.path.exists(output_dir):\n",
    "    os.mkdir(output_dir)"
   ]
  },
  {
   "cell_type": "code",
   "execution_count": null,
   "metadata": {},
   "outputs": [],
   "source": [
    "outfalls = pd.read_csv(outfall_file)[id_field].tolist()\n",
    "\n",
    "target_endpoints = outfalls\n",
    "# Single target example\n",
    "# target_endpoints = [\"JP5428128690\"]"
   ]
  },
  {
   "cell_type": "markdown",
   "metadata": {},
   "source": [
    "Load layers from files (may take some time)"
   ]
  },
  {
   "cell_type": "code",
   "execution_count": null,
   "metadata": {},
   "outputs": [],
   "source": [
    "# lines\n",
    "outfalls = pd.read_csv(outfall_file)[id_field].tolist()"
   ]
  },
  {
   "cell_type": "markdown",
   "metadata": {},
   "source": [
    "Prepare hash tables for traversal"
   ]
  },
  {
   "cell_type": "code",
   "execution_count": null,
   "metadata": {},
   "outputs": [],
   "source": [
    "result = []\n",
    "\n",
    "if multiple == False:\n",
    "    result = trace_sewershed(network_path, target_endpoints[0], upstream_only=upstream_only, downstream_only=downstream_only, verbose=verbose)\n",
    "else:\n",
    "    result = trace_sewersheds(network_path, target_endpoints, upstream_only=upstream_only, downstream_only=downstream_only, verbose=verbose)"
   ]
  },
  {
   "cell_type": "code",
   "execution_count": null,
   "metadata": {},
   "outputs": [],
   "source": [
    "# Convert to dataframe and output as a csv\n",
    "out_df = pd.DataFrame.from_dict(result)\n",
    "out_df.to_csv(f'{output_dir}/{outputname_extra}catchment_{\"singledir\" if upstream_only or downstream_only else \"multidir\"}{\"_ups\" if upstream_only and not downstream_only else \"\"}{\"_dwns\" if downstream_only and not upstream_only else \"\"}_{target_endpoints[0] if not multiple else outfall_file.replace('/', '_').replace('.', '_')}.csv')"
   ]
  }
 ],
 "metadata": {
  "kernelspec": {
   "display_name": "Python 3.10.10 ('geo')",
   "language": "python",
   "name": "python3"
  },
  "language_info": {
   "codemirror_mode": {
    "name": "ipython",
    "version": 3
   },
   "file_extension": ".py",
   "mimetype": "text/x-python",
   "name": "python",
   "nbconvert_exporter": "python",
   "pygments_lexer": "ipython3",
   "version": "3.13.7"
  },
  "orig_nbformat": 4,
  "vscode": {
   "interpreter": {
    "hash": "c870ea2fd92583757fb09903d1afe54c3d01777e900ba84d1a659c230b4f1ae3"
   }
  }
 },
 "nbformat": 4,
 "nbformat_minor": 2
}
